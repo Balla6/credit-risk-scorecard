{
 "cells": [
  {
   "cell_type": "code",
   "execution_count": 3,
   "id": "49b4a288-b82f-49a3-abe6-705bd60e7f7c",
   "metadata": {},
   "outputs": [],
   "source": [
    "import os, json, pandas as pd, numpy as np\n",
    "from pathlib import Path\n",
    "\n",
    "DATA_PATH = Path(\"data/raw/german_credit.csv\")\n",
    "Path(\"reports\").mkdir(parents=True, exist_ok=True)\n",
    "Path(\"splits\").mkdir(parents=True, exist_ok=True)\n"
   ]
  },
  {
   "cell_type": "code",
   "execution_count": 4,
   "id": "a83f1ee7-1c25-4c91-b0ca-3bc887528ca2",
   "metadata": {},
   "outputs": [
    {
     "name": "stderr",
     "output_type": "stream",
     "text": [
      "C:\\Users\\balla\\Documents\\Telemetry-Failure-Prediction-fresh\\.venv\\lib\\site-packages\\sklearn\\datasets\\_openml.py:324: UserWarning: Multiple active versions of the dataset matching the name credit-g exist. Versions may be fundamentally different, returning version 1. Available versions:\n",
      "- version 1, status: active\n",
      "  url: https://www.openml.org/search?type=data&id=31\n",
      "- version 2, status: active\n",
      "  url: https://www.openml.org/search?type=data&id=44096\n",
      "\n",
      "  warn(warning_msg)\n"
     ]
    },
    {
     "data": {
      "text/plain": [
       "((1000, 21), 0.3)"
      ]
     },
     "execution_count": 4,
     "metadata": {},
     "output_type": "execute_result"
    }
   ],
   "source": [
    "from sklearn.datasets import fetch_openml\n",
    "\n",
    "DATA_PATH = Path(\"data/raw/german_credit.csv\")\n",
    "\n",
    "if DATA_PATH.exists():\n",
    "    df = pd.read_csv(DATA_PATH)\n",
    "else:\n",
    "    try:\n",
    "        # try by name\n",
    "        data = fetch_openml(name=\"credit-g\", as_frame=True, parser=\"pandas\")\n",
    "    except Exception as e1:\n",
    "        # fallback: try by ID\n",
    "        data = fetch_openml(data_id=31, as_frame=True, parser=\"pandas\")\n",
    "\n",
    "    df = data.frame\n",
    "    # make binary target\n",
    "    if \"class\" in df.columns:\n",
    "        df[\"default\"] = (df[\"class\"] == \"bad\").astype(int)\n",
    "        df = df.drop(columns=[\"class\"])\n",
    "    # tidy names\n",
    "    df.columns = [c.replace(\".\", \"_\").lower() for c in df.columns]\n",
    "    # persist a clean copy\n",
    "    DATA_PATH.parent.mkdir(parents=True, exist_ok=True)\n",
    "    df.to_csv(DATA_PATH, index=False)\n",
    "\n",
    "df.shape, df[\"default\"].mean()\n",
    "\n"
   ]
  },
  {
   "cell_type": "code",
   "execution_count": 7,
   "id": "e5fdaeb4-3f54-4b17-8d16-58bab8ed5b3c",
   "metadata": {},
   "outputs": [
    {
     "name": "stdout",
     "output_type": "stream",
     "text": [
      "shape: (1000, 21)\n",
      "target rate: 0.3\n"
     ]
    },
    {
     "data": {
      "text/html": [
       "<div>\n",
       "<style scoped>\n",
       "    .dataframe tbody tr th:only-of-type {\n",
       "        vertical-align: middle;\n",
       "    }\n",
       "\n",
       "    .dataframe tbody tr th {\n",
       "        vertical-align: top;\n",
       "    }\n",
       "\n",
       "    .dataframe thead th {\n",
       "        text-align: right;\n",
       "    }\n",
       "</style>\n",
       "<table border=\"1\" class=\"dataframe\">\n",
       "  <thead>\n",
       "    <tr style=\"text-align: right;\">\n",
       "      <th></th>\n",
       "      <th>checking_status</th>\n",
       "      <th>duration</th>\n",
       "      <th>credit_history</th>\n",
       "      <th>purpose</th>\n",
       "      <th>credit_amount</th>\n",
       "      <th>savings_status</th>\n",
       "      <th>employment</th>\n",
       "      <th>installment_commitment</th>\n",
       "      <th>personal_status</th>\n",
       "      <th>other_parties</th>\n",
       "      <th>...</th>\n",
       "      <th>property_magnitude</th>\n",
       "      <th>age</th>\n",
       "      <th>other_payment_plans</th>\n",
       "      <th>housing</th>\n",
       "      <th>existing_credits</th>\n",
       "      <th>job</th>\n",
       "      <th>num_dependents</th>\n",
       "      <th>own_telephone</th>\n",
       "      <th>foreign_worker</th>\n",
       "      <th>default</th>\n",
       "    </tr>\n",
       "  </thead>\n",
       "  <tbody>\n",
       "    <tr>\n",
       "      <th>0</th>\n",
       "      <td>&lt;0</td>\n",
       "      <td>6</td>\n",
       "      <td>critical/other existing credit</td>\n",
       "      <td>radio/tv</td>\n",
       "      <td>1169</td>\n",
       "      <td>no known savings</td>\n",
       "      <td>&gt;=7</td>\n",
       "      <td>4</td>\n",
       "      <td>male single</td>\n",
       "      <td>none</td>\n",
       "      <td>...</td>\n",
       "      <td>real estate</td>\n",
       "      <td>67</td>\n",
       "      <td>none</td>\n",
       "      <td>own</td>\n",
       "      <td>2</td>\n",
       "      <td>skilled</td>\n",
       "      <td>1</td>\n",
       "      <td>yes</td>\n",
       "      <td>yes</td>\n",
       "      <td>0</td>\n",
       "    </tr>\n",
       "    <tr>\n",
       "      <th>1</th>\n",
       "      <td>0&lt;=X&lt;200</td>\n",
       "      <td>48</td>\n",
       "      <td>existing paid</td>\n",
       "      <td>radio/tv</td>\n",
       "      <td>5951</td>\n",
       "      <td>&lt;100</td>\n",
       "      <td>1&lt;=X&lt;4</td>\n",
       "      <td>2</td>\n",
       "      <td>female div/dep/mar</td>\n",
       "      <td>none</td>\n",
       "      <td>...</td>\n",
       "      <td>real estate</td>\n",
       "      <td>22</td>\n",
       "      <td>none</td>\n",
       "      <td>own</td>\n",
       "      <td>1</td>\n",
       "      <td>skilled</td>\n",
       "      <td>1</td>\n",
       "      <td>none</td>\n",
       "      <td>yes</td>\n",
       "      <td>1</td>\n",
       "    </tr>\n",
       "    <tr>\n",
       "      <th>2</th>\n",
       "      <td>no checking</td>\n",
       "      <td>12</td>\n",
       "      <td>critical/other existing credit</td>\n",
       "      <td>education</td>\n",
       "      <td>2096</td>\n",
       "      <td>&lt;100</td>\n",
       "      <td>4&lt;=X&lt;7</td>\n",
       "      <td>2</td>\n",
       "      <td>male single</td>\n",
       "      <td>none</td>\n",
       "      <td>...</td>\n",
       "      <td>real estate</td>\n",
       "      <td>49</td>\n",
       "      <td>none</td>\n",
       "      <td>own</td>\n",
       "      <td>1</td>\n",
       "      <td>unskilled resident</td>\n",
       "      <td>2</td>\n",
       "      <td>none</td>\n",
       "      <td>yes</td>\n",
       "      <td>0</td>\n",
       "    </tr>\n",
       "  </tbody>\n",
       "</table>\n",
       "<p>3 rows × 21 columns</p>\n",
       "</div>"
      ],
      "text/plain": [
       "  checking_status  duration                  credit_history    purpose  \\\n",
       "0              <0         6  critical/other existing credit   radio/tv   \n",
       "1        0<=X<200        48                   existing paid   radio/tv   \n",
       "2     no checking        12  critical/other existing credit  education   \n",
       "\n",
       "   credit_amount    savings_status employment  installment_commitment  \\\n",
       "0           1169  no known savings        >=7                       4   \n",
       "1           5951              <100     1<=X<4                       2   \n",
       "2           2096              <100     4<=X<7                       2   \n",
       "\n",
       "      personal_status other_parties  ...  property_magnitude age  \\\n",
       "0         male single          none  ...         real estate  67   \n",
       "1  female div/dep/mar          none  ...         real estate  22   \n",
       "2         male single          none  ...         real estate  49   \n",
       "\n",
       "   other_payment_plans housing existing_credits                 job  \\\n",
       "0                 none     own                2             skilled   \n",
       "1                 none     own                1             skilled   \n",
       "2                 none     own                1  unskilled resident   \n",
       "\n",
       "  num_dependents  own_telephone foreign_worker default  \n",
       "0              1            yes            yes       0  \n",
       "1              1           none            yes       1  \n",
       "2              2           none            yes       0  \n",
       "\n",
       "[3 rows x 21 columns]"
      ]
     },
     "metadata": {},
     "output_type": "display_data"
    },
    {
     "data": {
      "text/plain": [
       "{'rows': 1000,\n",
       " 'cols': 21,\n",
       " 'positive_rate': 0.3,\n",
       " 'n_numeric': 7,\n",
       " 'n_categorical': 13}"
      ]
     },
     "execution_count": 7,
     "metadata": {},
     "output_type": "execute_result"
    }
   ],
   "source": [
    "from pandas.api.types import is_numeric_dtype, is_categorical_dtype, is_object_dtype, is_bool_dtype\n",
    "\n",
    "print(\"shape:\", df.shape)\n",
    "print(\"target rate:\", df[\"default\"].mean())\n",
    "\n",
    "# Identify dtypes safely\n",
    "numeric = [c for c in df.columns if c != \"default\" and is_numeric_dtype(df[c])]\n",
    "categorical = [\n",
    "    c for c in df.columns\n",
    "    if c != \"default\" and (\n",
    "        isinstance(df[c].dtype, pd.CategoricalDtype) or\n",
    "        df[c].dtype == \"object\" or\n",
    "        is_bool_dtype(df[c])\n",
    "    )\n",
    "]\n",
    "\n",
    "missing = df.isna().sum().sort_values(ascending=False)\n",
    "cardinality = df.nunique().sort_values(ascending=False)\n",
    "\n",
    "summary = {\n",
    "    \"rows\": int(df.shape[0]),\n",
    "    \"cols\": int(df.shape[1]),\n",
    "    \"positive_rate\": float(df[\"default\"].mean()),\n",
    "    \"n_numeric\": len(numeric),\n",
    "    \"n_categorical\": len(categorical),\n",
    "}\n",
    "\n",
    "display(df.head(3))\n",
    "summary"
   ]
  },
  {
   "cell_type": "code",
   "execution_count": 8,
   "id": "f86e24ab-4a1f-413c-971f-6de805c57df7",
   "metadata": {},
   "outputs": [
    {
     "name": "stdout",
     "output_type": "stream",
     "text": [
      "saved: reports/eda_summary.json\n"
     ]
    }
   ],
   "source": [
    "os.makedirs(\"reports\", exist_ok=True)\n",
    "\n",
    "eda = {\n",
    "    \"rows\": int(df.shape[0]),\n",
    "    \"cols\": int(df.shape[1]),\n",
    "    \"positive_rate\": float(df[\"default\"].mean()),\n",
    "    \"numeric\": numeric,\n",
    "    \"categorical\": categorical,\n",
    "    \"top_missing\": missing.head(10).to_dict(),\n",
    "    \"top_cardinality\": cardinality.head(10).to_dict(),\n",
    "}\n",
    "with open(\"reports/eda_summary.json\", \"w\") as f:\n",
    "    json.dump(eda, f, indent=2)\n",
    "print(\"saved: reports/eda_summary.json\")"
   ]
  },
  {
   "cell_type": "code",
   "execution_count": 9,
   "id": "d446d6f1-419b-4428-92c9-73cf74da940b",
   "metadata": {},
   "outputs": [
    {
     "name": "stdout",
     "output_type": "stream",
     "text": [
      "splits saved\n"
     ]
    }
   ],
   "source": [
    "from sklearn.model_selection import train_test_split\n",
    "os.makedirs(\"splits\", exist_ok=True)\n",
    "\n",
    "y = df[\"default\"]\n",
    "X = df.drop(columns=[\"default\"])\n",
    "\n",
    "X_train, X_temp, y_train, y_temp = train_test_split(\n",
    "    X, y, test_size=0.40, stratify=y, random_state=42\n",
    ")\n",
    "X_valid, X_test, y_valid, y_test = train_test_split(\n",
    "    X_temp, y_temp, test_size=0.50, stratify=y_temp, random_state=42\n",
    ")\n",
    "\n",
    "pd.DataFrame({\"index\": X_train.index}).to_csv(\"splits/train_idx.csv\", index=False)\n",
    "pd.DataFrame({\"index\": X_valid.index}).to_csv(\"splits/valid_idx.csv\", index=False)\n",
    "pd.DataFrame({\"index\": X_test.index}).to_csv(\"splits/test_idx.csv\", index=False)\n",
    "print(\"splits saved\")\n"
   ]
  },
  {
   "cell_type": "code",
   "execution_count": 10,
   "id": "767baa14-f6e1-4364-a279-cd1681e9be0c",
   "metadata": {},
   "outputs": [
    {
     "name": "stdout",
     "output_type": "stream",
     "text": [
      "saved: reports/feature_schema.json\n"
     ]
    }
   ],
   "source": [
    "schema = {\"numeric\": numeric, \"categorical\": categorical, \"target\": \"default\"}\n",
    "with open(\"reports/feature_schema.json\", \"w\") as f:\n",
    "    json.dump(schema, f, indent=2)\n",
    "print(\"saved: reports/feature_schema.json\")\n"
   ]
  },
  {
   "cell_type": "code",
   "execution_count": 1,
   "id": "fd4d2ab8-a736-46a7-84e4-b5a973cc4a0a",
   "metadata": {},
   "outputs": [
    {
     "name": "stdout",
     "output_type": "stream",
     "text": [
      "CWD: C:\\Users\\balla\\Documents\\credit-risk-scorecard\\notebooks\n",
      "Repo exists here?  True\n"
     ]
    }
   ],
   "source": [
    "from pathlib import Path\n",
    "print(\"CWD:\", Path.cwd())\n",
    "print(\"Repo exists here? \", (Path.home() / \"Documents\" / \"credit-risk-scorecard\").exists())\n"
   ]
  },
  {
   "cell_type": "code",
   "execution_count": null,
   "id": "b3c1ef65-c2ff-4d62-b855-2d8c9e8b4135",
   "metadata": {},
   "outputs": [],
   "source": [
    "import shutil\n",
    "\n",
    "REPO = Path.home() / \"Documents\" / \"credit-risk-scorecard\"\n",
    "NB   = REPO / \"notebooks\"\n",
    "\n",
    "src_csv   = NB / \"data\" / \"raw\" / \"german_credit.csv\"\n",
    "src_splits= NB / \"splits\"\n",
    "src_reports = NB / \"reports\"\n",
    "\n",
    "# destinations (repo root)\n",
    "dst_csv   = REPO / \"data\" / \"raw\" / \"german_credit.csv\"\n",
    "dst_splits= REPO / \"splits\"\n",
    "dst_reports = REPO / \"reports\"\n",
    "\n",
    "dst_csv.parent.mkdir(parents=True, exist_ok=True)\n",
    "dst_splits.mkdir(parents=True, exist_ok=True)\n",
    "dst_reports.mkdir(parents=True, exist_ok=True)\n",
    "\n",
    "# move CSV\n",
    "if src_csv.exists():\n",
    "    shutil.move(str(src_csv), str(dst_csv))\n",
    "\n",
    "# move split CSVs\n",
    "if src_splits.exists():\n",
    "    for p in src_splits.glob(\"*.csv\"):\n",
    "        shutil.move(str(p), str(dst_splits / p.name))\n",
    "\n",
    "# move report JSONs\n",
    "if src_reports.exists():\n",
    "    for p in src_reports.glob(\"*.json\"):\n",
    "        shutil.move(str(p), str(dst_reports / p.name))\n",
    "\n",
    "print(\"moved files (if any) to repo root\")\n"
   ]
  }
 ],
 "metadata": {
  "kernelspec": {
   "display_name": "Python 3 (ipykernel)",
   "language": "python",
   "name": "python3"
  },
  "language_info": {
   "codemirror_mode": {
    "name": "ipython",
    "version": 3
   },
   "file_extension": ".py",
   "mimetype": "text/x-python",
   "name": "python",
   "nbconvert_exporter": "python",
   "pygments_lexer": "ipython3",
   "version": "3.13.0"
  }
 },
 "nbformat": 4,
 "nbformat_minor": 5
}
